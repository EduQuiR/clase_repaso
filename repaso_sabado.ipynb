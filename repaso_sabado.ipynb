{
 "cells": [
  {
   "attachments": {},
   "cell_type": "markdown",
   "metadata": {},
   "source": [
    "Visual Studio Code es un editor de código fuente gratuito y de código abierto desarrollado por Microsoft. Es un programa versátil que admite varios lenguajes de programación. Incluye soporte para la depuración, control integrado de Git, resaltado de sintaxis, finalización inteligente de código, fragmentos y refactorización de código12.\n",
    "\n",
    "Es una herramienta popular entre los programadores y especialmente entre quienes se inician en el mundo de la programación. Las extensiones nos permiten personalizar y agregar funcionalidad adicional de forma modular y aislada. Por ejemplo, para programar en diferentes lenguajes, agregar nuevos temas al editor y conectar con otros servicios2.\n",
    "\n",
    " Jupyter Notebook En una sola interfaz, los usuarios pueden escribir, documentar y ejecutar código, visualizar datos, realizar cálculos y ver los resultados."
   ]
  },
  {
   "attachments": {},
   "cell_type": "markdown",
   "metadata": {},
   "source": [
    "## Challenge  🤺 - 15 min\n",
    "\n",
    "El precio de alquilar un polideportivo es 120.000 guaranies. Dependiendo de las siguientes condiciones, se puede obtener un descuento:\n",
    "\n",
    "- Si es mayor de edad y está trabajando -> Paga el 100%\n",
    "- Si es menor de edad y está trabajando -> Paga el 95%\n",
    "- Si es mayor de edad y no está trabajando -> Paga el 75%\n",
    "- Si es menor de edad y no está trabajando -> Paga el 50%\n",
    "\n",
    "Teniendo la edad de la persona y si trabaja o no, imprimir el precio de alquilar el polideportivo."
   ]
  },
  {
   "cell_type": "code",
   "execution_count": 4,
   "metadata": {},
   "outputs": [
    {
     "name": "stdout",
     "output_type": "stream",
     "text": [
      "El precio del alquiler es de Gs. 60000\n"
     ]
    }
   ],
   "source": [
    "precio_alquiler = 120000\n",
    "edad = int(input(\"Ingrese su edad\"))\n",
    "tiene_trabajo = input(\"Cuenta con trabajo?\")\n",
    "tiene_trabajo_lower = tiene_trabajo.lower()\n",
    "\n",
    "if edad >= 18 and tiene_trabajo_lower == \"si\":\n",
    "    print(f\"El precio del alquiler es de Gs.{precio_alquiler}\")\n",
    "elif edad <= 18 and tiene_trabajo_lower == \"si\":\n",
    "    print (f\"El precio del alquiler es de Gs. {int(precio_alquiler * 0.95)}\")\n",
    "elif edad >= 18 and tiene_trabajo_lower == \"no\":\n",
    "    print(f\"El precio del alquiler es de Gs. {int(precio_alquiler * 0.75)}\")\n",
    "else:\n",
    "    print(f\"El precio del alquiler es de Gs. {int(precio_alquiler * 0.50)}\")\n",
    "        "
   ]
  },
  {
   "attachments": {},
   "cell_type": "markdown",
   "metadata": {},
   "source": [
    "# Challenge 15mins 🤺 \n",
    "Crear una funcion que pida como parametro el nombre,\n",
    "correo y contrasenha. retornar true si la contrasenha tiene mas de 4 caracteres y el correo contiene un \"@\"\n",
    "De lo contrario, retornar False\n",
    "\n",
    "Repetir el proceso 3 veces"
   ]
  },
  {
   "cell_type": "code",
   "execution_count": 2,
   "metadata": {},
   "outputs": [
    {
     "data": {
      "text/plain": [
       "True"
      ]
     },
     "execution_count": 2,
     "metadata": {},
     "output_type": "execute_result"
    }
   ],
   "source": [
    "def verificador (nombre, correo, contrasenha):\n",
    "    if len(contrasenha) >= 4 and \"@\" in correo:\n",
    "        print(f\"Bienvenido, {nombre}\")\n",
    "        return True\n",
    "    else:\n",
    "        return False \n",
    "\n",
    "nombre= input(\"ingrese su nombre\")\n",
    "correo= input(\"ingrese su correo\")\n",
    "contrasenha = input(\"ingrese su contrasenha\")\n",
    "\n",
    "verificador(nombre,correo,contrasenha)"
   ]
  },
  {
   "attachments": {},
   "cell_type": "markdown",
   "metadata": {},
   "source": [
    "## Challenge 🤺 - 15 min\n",
    "Diferencia entre el print() y el return.\n",
    "# Imaginemos un cajero automático...\n",
    "- Crear una funcion que imprima el saldo de la cuenta del usuario\n",
    "- Crear una funcion extraer_dinero() que tome un número (cantidad a extraer) como argumento. Retornar la cantidad a extraer y almacenarla en una variable.\n",
    "- Crear una función comprar_coquita() que tome un número (dinero disponible) como argumento. Si el dinero disponible es mayor o igual a 5000, imprimir \"Disfruta tu coquita\", si es menor a 5000 imprimir \"Hendy\".\n"
   ]
  },
  {
   "cell_type": "code",
   "execution_count": 10,
   "metadata": {},
   "outputs": [
    {
     "name": "stdout",
     "output_type": "stream",
     "text": [
      "Saldo disponible: 20.000\n",
      "50000\n",
      "Disfruta tu coquita\n"
     ]
    }
   ],
   "source": [
    "#print() sirve para mostrar algo en pantalla. No podemos \"agarrar\" ningun valor porque print() NO nos devolvio/retorno nada. Le pedimos a un cajero que nos muestre/imprima algo en pantalla, pero NO nos devuelve nada.\n",
    "def mostrar_saldo():\n",
    "    print(\"Saldo disponible: 20.000\")\n",
    "\n",
    "mostrar_saldo() # Si intentamos almacenar esta llamada de funcion en una variable, la variable no va a \"agarrar\" nada. El \"cajero\" no me da nada para agarrar.\n",
    "\n",
    "\n",
    "# return sirve para obtener un dato de la funciòn. Este dato puede ser utilizado posteriormente y/o almacenarse en alguna variable. Le pedimos al cajero que nos devuelva/retorne algo -- billetes -- para poder usar eso en otro lado.\n",
    "def extraer_dinero(cantidad_a_extraer):\n",
    "    return cantidad_a_extraer\n",
    "\n",
    "dinero_disponible = extraer_dinero(50000) # Lo que nos devolvio el cajero (o la funcion) la podemos guardar en otro lado y usarla como queremos.\n",
    "print(dinero_disponible)\n",
    "\n",
    "# Ya guardamos un valor en nuestra variable billetera. Ya podemos usar como queramos el valor que nos retorno/devolvio la funcion y hacer otras cosas con ese valor! :)\n",
    "def comprar_coquita(dinero_disponible):\n",
    "    if dinero_disponible >= 5000:\n",
    "        print(\"Disfruta tu coquita\")\n",
    "    else:\n",
    "        print(\"Hendy\")\n",
    "\n",
    "comprar_coquita(dinero_disponible)\n"
   ]
  },
  {
   "attachments": {},
   "cell_type": "markdown",
   "metadata": {},
   "source": [
    "## Challenge 🤺 - 15 min\n",
    "- Definir una variable que contenga un numero y preguntar al usuario por el numero hasta que acierte.\n",
    "- El programa debe tener una cantidad limitada de intentos.\n",
    "- Si falla imprimir si el numero a adivinar es mayor o menor que el numero ingresado y debe indicar la cantidad de intentos que le quedan.\n",
    "- Si acierta imprimir un mensaje.\n"
   ]
  },
  {
   "cell_type": "code",
   "execution_count": 14,
   "metadata": {},
   "outputs": [
    {
     "name": "stdout",
     "output_type": "stream",
     "text": [
      "Numero ingresado es menor al numero secreo, te quedan 2 intentos\n",
      "Adivinaste\n"
     ]
    }
   ],
   "source": [
    "numero_secreto = 4\n",
    "intentos = 3\n",
    "\n",
    "while intentos > 0:\n",
    "    intentos = intentos - 1\n",
    "    ingrese_numero = input(\"Ingrese numero\")\n",
    "    if intentos == 0:\n",
    "        print(\"te quedaste sin intentos\")\n",
    "        \n",
    "    elif int(ingrese_numero) < numero_secreto:\n",
    "        print(f\"Numero ingresado es menor al numero secreo, te quedan {intentos} intentos\")\n",
    "    elif int(ingrese_numero) > numero_secreto:\n",
    "        print(f\"Numero ingresado es mayor al numero secreto, te quedan {intentos} intentos\")\n",
    "    else:\n",
    "        print(\"Adivinaste\")\n",
    "        break\n"
   ]
  },
  {
   "attachments": {},
   "cell_type": "markdown",
   "metadata": {},
   "source": [
    "Crear un programa donde el usurario pueda agredar, eliminar o modificar un producto "
   ]
  },
  {
   "attachments": {},
   "cell_type": "markdown",
   "metadata": {},
   "source": [
    "## Challenge 🤺 - 15 min\n",
    "Crear un programa que reciba una lista de supermercado e imprima todos los elementos de la lista enumerados."
   ]
  },
  {
   "cell_type": "code",
   "execution_count": 1,
   "metadata": {},
   "outputs": [
    {
     "name": "stdout",
     "output_type": "stream",
     "text": [
      "1 - manteca\n",
      "2 - sal\n",
      "3 - zanahoria\n"
     ]
    }
   ],
   "source": [
    "lista_super = [\"manteca\",\"sal\",\"zanahoria\"]\n",
    "numero_prod = 0\n",
    "\n",
    "for elemento in lista_super:\n",
    "    numero_prod = numero_prod + 1\n",
    "    print(f\"{numero_prod} - {elemento}\")"
   ]
  },
  {
   "attachments": {},
   "cell_type": "markdown",
   "metadata": {},
   "source": [
    "## Challenge 🤺 - 15 min\n",
    "Crear un programa  que solicite al usuario ingresar una frase y que imprima solo las letras que contiene dicha frase, no asi las vocales y los espacios.\n",
    "\n",
    "Operadores logicos\n",
    "- and: (y) ambas deben ser verdaderas.\n",
    "- or: (o) solo una es veradera.\n",
    "- not: convertir un valor verdadero a falso y falso a verdadero."
   ]
  },
  {
   "cell_type": "code",
   "execution_count": 8,
   "metadata": {},
   "outputs": [
    {
     "name": "stdout",
     "output_type": "stream",
     "text": [
      "l\n",
      "p\n",
      "r\n",
      "r\n",
      "s\n",
      "l\n",
      "f\n",
      "r\n"
     ]
    }
   ],
   "source": [
    "palabra = input(\"Ingrese una palabra\")\n",
    "\n",
    "for letra in palabra:\n",
    "    vocales = \"aeiou\"\n",
    "    espacio = \" \"\n",
    "    caracteres_prohibidos = vocales + espacio\n",
    "    if letra not in caracteres_prohibidos:\n",
    "        print(letra)"
   ]
  },
  {
   "attachments": {},
   "cell_type": "markdown",
   "metadata": {},
   "source": [
    "## Challenge 🤺 - 15 min\n",
    "Crear un programa que solicite al usuario ingresar una letra y una frase. El programa debe contar la cantidad de veces que encuentra la letra en la frase y luego imprimir un mensaje, ejemplo: Encontre \"3\" veces la letra \"o\""
   ]
  },
  {
   "cell_type": "code",
   "execution_count": 10,
   "metadata": {},
   "outputs": [
    {
     "name": "stdout",
     "output_type": "stream",
     "text": [
      "Encontre 2 veces la letra 'a'\n"
     ]
    }
   ],
   "source": [
    "letra = input(\"Ingrese una letra\")\n",
    "frase = input(\"Ingrese una frase\")\n",
    "cantidad_letras = 0\n",
    "for posicion in frase:\n",
    "    if  letra == posicion:\n",
    "        cantidad_letras += 1\n",
    "\n",
    "print(f\"Encontre {cantidad_letras} veces la letra '{letra}'\")\n"
   ]
  },
  {
   "cell_type": "code",
   "execution_count": 19,
   "metadata": {},
   "outputs": [
    {
     "name": "stdout",
     "output_type": "stream",
     "text": [
      "Encontre 1 veces la letra 'a'\n"
     ]
    }
   ],
   "source": [
    "letra = input(\"Ingrese una letra\")\n",
    "frase = input(\"Ingrese una frase\")\n",
    "cantidad_letras = 0\n",
    "for posicion in range(len(frase)):\n",
    "    if  frase[posicion] == letra:\n",
    "        cantidad_letras += 1\n",
    "\n",
    "print(f\"Encontre {cantidad_letras} veces la letra '{letra}'\")"
   ]
  }
 ],
 "metadata": {
  "kernelspec": {
   "display_name": "Python 3",
   "language": "python",
   "name": "python3"
  },
  "language_info": {
   "codemirror_mode": {
    "name": "ipython",
    "version": 3
   },
   "file_extension": ".py",
   "mimetype": "text/x-python",
   "name": "python",
   "nbconvert_exporter": "python",
   "pygments_lexer": "ipython3",
   "version": "3.10.12"
  },
  "orig_nbformat": 4
 },
 "nbformat": 4,
 "nbformat_minor": 2
}
